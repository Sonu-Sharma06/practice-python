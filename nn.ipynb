{
 "cells": [
  {
   "cell_type": "code",
   "execution_count": 1,
   "metadata": {},
   "outputs": [
    {
     "name": "stdout",
     "output_type": "stream",
     "text": [
      "    id         name  class  mark  gender\n",
      "0    1     John Deo   Four    75  female\n",
      "1    2     Max Ruin  Three    85    male\n",
      "2    3       Arnold  Three    55    male\n",
      "3    4   Krish Star   Four    60  female\n",
      "4    5    John Mike   Four    60  female\n",
      "5    6    Alex John   Four    55    male\n",
      "6    7  My John Rob  Fifth    78    male\n",
      "7    8       Asruid   Five    85    male\n",
      "8    9      Tes Qry    Six    78    male\n",
      "9   10     Big John   Four    55  female\n",
      "10  11       Ronald    Six    89  female\n",
      "11  12        Recky    Six    94  female\n",
      "12  13          Kty  Seven    88  female\n",
      "13  14         Bigy  Seven    88  female\n",
      "14  15     Tade Row   Four    88    male\n",
      "15  16        Gimmy   Four    88    male\n",
      "16  17        Tumyu    Six    54    male\n",
      "17  18        Honny   Five    75    male\n",
      "18  19        Tinny   Nine    18    male\n",
      "19  20       Jackly   Nine    65  female\n",
      "20  21   Babby John   Four    69  female\n",
      "21  22       Reggid  Seven    55  female\n",
      "22  23        Herod  Eight    79    male\n",
      "23  24    Tiddy Now  Seven    78    male\n",
      "24  25     Giff Tow  Seven    88    male\n",
      "25  26       Crelea  Seven    79    male\n",
      "26  27     Big Nose  Three    81  female\n",
      "27  28    Rojj Base  Seven    86  female\n",
      "28  29  Tess Played  Seven    55    male\n",
      "29  30    Reppy Red    Six    79  female\n",
      "30  31  Marry Toeey   Four    88    male\n",
      "31  32    Binn Rott  Seven    90  female\n",
      "32  33    Kenn Rein    Six    96  female\n",
      "33  34     Gain Toe  Seven    69    male\n",
      "34  35   Rows Noump    Six    88  female\n"
     ]
    },
    {
     "name": "stderr",
     "output_type": "stream",
     "text": [
      "C:\\Users\\MSI-PC\\AppData\\Local\\Temp\\ipykernel_1612\\3043314625.py:6: FutureWarning: A value is trying to be set on a copy of a DataFrame or Series through chained assignment using an inplace method.\n",
      "The behavior will change in pandas 3.0. This inplace method will never work because the intermediate object on which we are setting values always behaves as a copy.\n",
      "\n",
      "For example, when doing 'df[col].method(value, inplace=True)', try using 'df.method({col: value}, inplace=True)' or df[col] = df[col].method(value) instead, to perform the operation inplace on the original object.\n",
      "\n",
      "\n",
      "  data[\"mark\"].fillna(75,inplace=True)\n"
     ]
    }
   ],
   "source": [
    "import pandas as pd\n",
    "\n",
    "\n",
    "data=pd.read_csv(\"student.csv\")\n",
    "#using fillna() for replacing empty value\n",
    "data[\"mark\"].fillna(75,inplace=True)\n",
    "print(data.to_string())\n",
    "\n",
    "#now for particular column updating the value\n",
    "\n",
    "\n"
   ]
  },
  {
   "cell_type": "code",
   "execution_count": 2,
   "metadata": {},
   "outputs": [
    {
     "name": "stdout",
     "output_type": "stream",
     "text": [
      "      Name  Age\n",
      "0    Alice   25\n",
      "1      Bob   30\n",
      "2  Charlie   35\n"
     ]
    }
   ],
   "source": [
    "import pandas as pd\n",
    "\n",
    "data = {\n",
    "    'Name': ['Alice', 'Bob', 'Charlie'],\n",
    "    'Age': [25, 30, 35]\n",
    "}\n",
    "\n",
    "df = pd.DataFrame(data)\n",
    "\n",
    "print(df)\n"
   ]
  },
  {
   "cell_type": "code",
   "execution_count": 7,
   "metadata": {},
   "outputs": [
    {
     "name": "stdout",
     "output_type": "stream",
     "text": [
      "<class 'pandas.core.frame.DataFrame'>\n",
      "RangeIndex: 35 entries, 0 to 34\n",
      "Data columns (total 5 columns):\n",
      " #   Column  Non-Null Count  Dtype \n",
      "---  ------  --------------  ----- \n",
      " 0   id      35 non-null     int64 \n",
      " 1   name    35 non-null     object\n",
      " 2   class   35 non-null     object\n",
      " 3   mark    35 non-null     int64 \n",
      " 4   gender  35 non-null     object\n",
      "dtypes: int64(2), object(3)\n",
      "memory usage: 1.5+ KB\n",
      "None\n"
     ]
    }
   ],
   "source": [
    "#import pandas as pd\n",
    "\n",
    "#now we will study about mean median mode\n",
    "\n",
    "data=pd.read_csv(\"student.csv\")\n",
    "\n",
    "x=data[\"mark\"].mode()\n",
    "#data[\"mark\"].fillna(x,inplace=True)\n",
    "print(data.info())"
   ]
  },
  {
   "cell_type": "code",
   "execution_count": 6,
   "metadata": {},
   "outputs": [
    {
     "name": "stdout",
     "output_type": "stream",
     "text": [
      "21\n"
     ]
    }
   ],
   "source": [
    "#import pandas as pd\n",
    "# we analyzing the data which is in wrong format\n",
    "# to fix this problem ,there are 2 ways, removing or convert all cells in same format\n",
    "\n",
    "data1=pd.read_csv(\"student.csv\")\n",
    "count=0\n",
    "for i in data1.index:\n",
    "   if data1.loc[i,\"mark\"]<60:\n",
    "      data1.loc[i,\"mark\"]=60\n",
    "\n",
    "   if data1.loc[i,\"mark\"]>=95:\n",
    "      data1.loc[i,\"gender\"]=\"puja\"\n",
    "      count=count+1\n",
    "\n",
    "print(data1[\"mark\"].duplicated().sum())\n"
   ]
  },
  {
   "cell_type": "code",
   "execution_count": 9,
   "metadata": {},
   "outputs": [
    {
     "ename": "ModuleNotFoundError",
     "evalue": "No module named 'matplotlib'",
     "output_type": "error",
     "traceback": [
      "\u001b[31m---------------------------------------------------------------------------\u001b[39m",
      "\u001b[31mModuleNotFoundError\u001b[39m                       Traceback (most recent call last)",
      "\u001b[36mCell\u001b[39m\u001b[36m \u001b[39m\u001b[32mIn[9]\u001b[39m\u001b[32m, line 1\u001b[39m\n\u001b[32m----> \u001b[39m\u001b[32m1\u001b[39m \u001b[38;5;28;01mimport\u001b[39;00m\u001b[38;5;250m \u001b[39m\u001b[34;01mmatplotlib\u001b[39;00m \n\u001b[32m      2\u001b[39m \u001b[38;5;28mprint\u001b[39m(matplotlib.__version__)\n",
      "\u001b[31mModuleNotFoundError\u001b[39m: No module named 'matplotlib'"
     ]
    }
   ],
   "source": [
    "import matplotlib \n",
    "print(matplotlib.__version__)"
   ]
  },
  {
   "cell_type": "code",
   "execution_count": null,
   "metadata": {},
   "outputs": [
    {
     "data": {
      "image/png": "[encoded data removed]",
      "text/plain": [
       "<Figure size 640x480 with 2 Axes>"
      ]
     },
     "metadata": {},
     "output_type": "display_data"
    }
   ],
   "source": [
    "from matplotlib import pyplot as plt\n",
    "\n",
    "import numpy as np\n",
    "\n",
    "xpoint=np.array([1,2,8])\n",
    "ypoint=np.array([3,4,10])\n",
    "\n",
    "\n",
    "plt.subplot(2,1,1)\n",
    "plt.title(\"sports watch data\",loc=\"center\")\n",
    "plt.xlabel(\"average pulse\")\n",
    "plt.ylabel(\"calorie burnage\")\n",
    "\n",
    "#plt.plot(xpoint,ypoint,marker='o',ls='-',c='hotpink',linewidth=5,markersize=10,mec='b',mfc='g')\n",
    "plt.scatter(xpoint,ypoint,)\n",
    "plt.scatter([1,2,3],ypoint)\n",
    "plt.subplot(2,1,2)\n",
    "plt.title(\"sports watch data\",loc=\"right\")\n",
    "plt.xlabel(\"average pulse\")\n",
    "plt.ylabel(\"calorie burnage\")\n",
    "\n",
    "\n",
    "#plt.plot(ypoint,marker='o',ls='-',c='b',linewidth=4,markersize=20,mec='b',mfc='g')\n",
    "\n",
    "plt.suptitle(\"store data\")\n",
    "plt.scatter([1,2,3],ypoint,c='r')\n",
    "plt.show()\n",
    "\n"
   ]
  }
 ],
 "metadata": {
  "kernelspec": {
   "display_name": "Python 3",
   "language": "python",
   "name": "python3"
  },
  "language_info": {
   "codemirror_mode": {
    "name": "ipython",
    "version": 3
   },
   "file_extension": ".py",
   "mimetype": "text/x-python",
   "name": "python",
   "nbconvert_exporter": "python",
   "pygments_lexer": "ipython3",
   "version": "3.11.9"
  }
 },
 "nbformat": 4,
 "nbformat_minor": 2
}
